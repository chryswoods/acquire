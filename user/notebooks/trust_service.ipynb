{
 "cells": [
  {
   "cell_type": "markdown",
   "metadata": {},
   "source": [
    "Use this notebook to introduce services to one another, so that they can trust each other"
   ]
  },
  {
   "cell_type": "code",
   "execution_count": null,
   "metadata": {},
   "outputs": [],
   "source": [
    "from Acquire.Client import User, Service, Authorisation"
   ]
  },
  {
   "cell_type": "code",
   "execution_count": null,
   "metadata": {},
   "outputs": [],
   "source": [
    "url = \"https://fn.acquire-aaai.com/t\""
   ]
  },
  {
   "cell_type": "code",
   "execution_count": null,
   "metadata": {},
   "outputs": [],
   "source": [
    "identity_service = Service(service_url=\"%s/identity\" % url)\n",
    "print(identity_service)"
   ]
  },
  {
   "cell_type": "code",
   "execution_count": null,
   "metadata": {},
   "outputs": [],
   "source": [
    "admin_identity = User(\"admin-%s\" % identity_service.service_type(), identity_url=identity_service.canonical_url())\n",
    "response = admin_identity.request_login()\n",
    "response"
   ]
  },
  {
   "cell_type": "code",
   "execution_count": null,
   "metadata": {},
   "outputs": [],
   "source": [
    "admin_identity.wait_for_login()"
   ]
  },
  {
   "cell_type": "code",
   "execution_count": null,
   "metadata": {},
   "outputs": [],
   "source": [
    "accounting_service = Service(service_url=\"%s/accounting\" % url)\n",
    "print(accounting_service)"
   ]
  },
  {
   "cell_type": "code",
   "execution_count": null,
   "metadata": {},
   "outputs": [],
   "source": [
    "admin_accounting = User(\"admin-%s\" % accounting_service.service_type(), identity_url=accounting_service.canonical_url())\n",
    "response = admin_accounting.request_login()\n",
    "print(response)"
   ]
  },
  {
   "cell_type": "code",
   "execution_count": null,
   "metadata": {},
   "outputs": [],
   "source": [
    "admin_accounting.wait_for_login()"
   ]
  },
  {
   "cell_type": "code",
   "execution_count": null,
   "metadata": {},
   "outputs": [],
   "source": [
    "access_service = Service(service_url=\"%s/access\" % url)\n",
    "print(access_service)"
   ]
  },
  {
   "cell_type": "code",
   "execution_count": null,
   "metadata": {},
   "outputs": [],
   "source": [
    "admin_access = User(\"admin-%s\" % access_service.service_type(), identity_url=access_service.canonical_url())\n",
    "response = admin_access.request_login()\n",
    "print(response)"
   ]
  },
  {
   "cell_type": "code",
   "execution_count": null,
   "metadata": {},
   "outputs": [],
   "source": [
    "admin_access.wait_for_login()"
   ]
  },
  {
   "cell_type": "code",
   "execution_count": null,
   "metadata": {},
   "outputs": [],
   "source": [
    "storage_service = Service(service_url=\"%s/storage\" % url)\n",
    "print(storage_service)"
   ]
  },
  {
   "cell_type": "code",
   "execution_count": null,
   "metadata": {},
   "outputs": [],
   "source": [
    "admin_storage = User(\"admin-%s\" % storage_service.service_type(), identity_url=storage_service.canonical_url())\n",
    "response = admin_storage.request_login()\n",
    "print(response)"
   ]
  },
  {
   "cell_type": "code",
   "execution_count": null,
   "metadata": {},
   "outputs": [],
   "source": [
    "admin_storage.wait_for_login()"
   ]
  },
  {
   "cell_type": "code",
   "execution_count": null,
   "metadata": {},
   "outputs": [],
   "source": [
    "compute_service = Service(service_url=\"%s/compute\" % url)\n",
    "print(compute_service)"
   ]
  },
  {
   "cell_type": "code",
   "execution_count": null,
   "metadata": {},
   "outputs": [],
   "source": [
    "admin_compute = User(\"admin-%s\" % compute_service.service_type(), identity_url=compute_service.canonical_url())\n",
    "response = admin_compute.request_login()\n",
    "print(response)"
   ]
  },
  {
   "cell_type": "code",
   "execution_count": null,
   "metadata": {},
   "outputs": [],
   "source": [
    "admin_compute.wait_for_login()"
   ]
  },
  {
   "cell_type": "code",
   "execution_count": null,
   "metadata": {},
   "outputs": [],
   "source": [
    "resource = \"trust_service %s\" % identity_service.uid()\n",
    "public_cert = identity_service.public_certificate().to_data()\n",
    "args = {\"service_url\": identity_service.canonical_url(),\n",
    "            \"authorisation\": Authorisation(user=admin_accounting,\n",
    "                                           resource=resource).to_data(),\n",
    "            \"public_certificate\": public_cert}"
   ]
  },
  {
   "cell_type": "code",
   "execution_count": null,
   "metadata": {},
   "outputs": [],
   "source": [
    "response = accounting_service.call_function(\n",
    "                    function=\"admin/trust_service\", args=args)\n",
    "print(response)"
   ]
  },
  {
   "cell_type": "code",
   "execution_count": null,
   "metadata": {},
   "outputs": [],
   "source": [
    "resource = \"trust_service %s\" % identity_service.uid()\n",
    "public_cert = identity_service.public_certificate().to_data()\n",
    "args = {\"service_url\": identity_service.canonical_url(),\n",
    "            \"authorisation\": Authorisation(user=admin_access,\n",
    "                                           resource=resource).to_data(),\n",
    "            \"public_certificate\": public_cert}"
   ]
  },
  {
   "cell_type": "code",
   "execution_count": null,
   "metadata": {},
   "outputs": [],
   "source": [
    "response = access_service.call_function(\n",
    "                    function=\"admin/trust_service\", args=args)\n",
    "print(response)"
   ]
  },
  {
   "cell_type": "code",
   "execution_count": null,
   "metadata": {},
   "outputs": [],
   "source": [
    "resource = \"trust_service %s\" % identity_service.uid()\n",
    "public_cert = identity_service.public_certificate().to_data()\n",
    "args = {\"service_url\": identity_service.canonical_url(),\n",
    "            \"authorisation\": Authorisation(user=admin_storage,\n",
    "                                           resource=resource).to_data(),\n",
    "            \"public_certificate\": public_cert}"
   ]
  },
  {
   "cell_type": "code",
   "execution_count": null,
   "metadata": {},
   "outputs": [],
   "source": [
    "response = storage_service.call_function(\n",
    "                    function=\"admin/trust_service\", args=args)\n",
    "print(response)"
   ]
  },
  {
   "cell_type": "code",
   "execution_count": null,
   "metadata": {},
   "outputs": [],
   "source": [
    "resource = \"trust_service %s\" % access_service.uid()\n",
    "public_cert = access_service.public_certificate().to_data()\n",
    "args = {\"service_url\": access_service.canonical_url(),\n",
    "            \"authorisation\": Authorisation(user=admin_compute,\n",
    "                                           resource=resource).to_data(),\n",
    "            \"public_certificate\": public_cert}"
   ]
  },
  {
   "cell_type": "code",
   "execution_count": null,
   "metadata": {},
   "outputs": [],
   "source": [
    "response = compute_service.call_function(\n",
    "                    function=\"admin/trust_service\", args=args)\n",
    "print(response)"
   ]
  },
  {
   "cell_type": "code",
   "execution_count": null,
   "metadata": {},
   "outputs": [],
   "source": [
    "resource = \"trust_service %s\" % access_service.uid()\n",
    "public_cert = access_service.public_certificate().to_data()\n",
    "args = {\"service_url\": access_service.canonical_url(),\n",
    "            \"authorisation\": Authorisation(user=admin_compute,\n",
    "                                           resource=resource).to_data(),\n",
    "            \"public_certificate\": public_cert}"
   ]
  },
  {
   "cell_type": "code",
   "execution_count": null,
   "metadata": {},
   "outputs": [],
   "source": [
    "response = compute_service.call_function(\n",
    "                    function=\"admin/trust_service\", args=args)\n",
    "print(response)"
   ]
  },
  {
   "cell_type": "code",
   "execution_count": null,
   "metadata": {},
   "outputs": [],
   "source": [
    "resource = \"trust_service %s\" % accounting_service.uid()\n",
    "public_cert = accounting_service.public_certificate().to_data()\n",
    "args = {\"service_url\": accouting_service.canonical_url(),\n",
    "            \"authorisation\": Authorisation(user=admin_compute,\n",
    "                                           resource=resource).to_data(),\n",
    "            \"public_certificate\": public_cert}"
   ]
  },
  {
   "cell_type": "code",
   "execution_count": null,
   "metadata": {},
   "outputs": [],
   "source": [
    "response = compute_service.call_function(\n",
    "                    function=\"admin/trust_service\", args=args)\n",
    "print(response)"
   ]
  },
  {
   "cell_type": "code",
   "execution_count": null,
   "metadata": {},
   "outputs": [],
   "source": [
    "resource = \"trust_service %s\" % access_service.uid()\n",
    "public_cert = access_service.public_certificate().to_data()\n",
    "args = {\"service_url\": access_service.canonical_url(),\n",
    "            \"authorisation\": Authorisation(user=admin_accounting,\n",
    "                                           resource=resource).to_data(),\n",
    "            \"public_certificate\": public_cert}"
   ]
  },
  {
   "cell_type": "code",
   "execution_count": null,
   "metadata": {},
   "outputs": [],
   "source": [
    "response = accounting_service.call_function(\n",
    "                    function=\"admin/trust_service\", args=args)\n",
    "print(response)"
   ]
  },
  {
   "cell_type": "code",
   "execution_count": null,
   "metadata": {},
   "outputs": [],
   "source": [
    "resource = \"trust_service %s\" % accounting_service.uid()\n",
    "public_cert = accounting_service.public_certificate().to_data()\n",
    "args = {\"service_url\": accounting_service.canonical_url(),\n",
    "            \"authorisation\": Authorisation(user=admin_access,\n",
    "                                           resource=resource).to_data(),\n",
    "            \"public_certificate\": public_cert}"
   ]
  },
  {
   "cell_type": "code",
   "execution_count": null,
   "metadata": {},
   "outputs": [],
   "source": [
    "response = access_service.call_function(\n",
    "                    function=\"admin/trust_service\", args=args)\n",
    "print(response)"
   ]
  },
  {
   "cell_type": "code",
   "execution_count": null,
   "metadata": {},
   "outputs": [],
   "source": [
    "resource = \"trust_accounting_service %s\" % accounting_service.uid()\n",
    "public_cert = accounting_service.public_certificate().to_data()\n",
    "args = {\"service_url\": accounting_service.canonical_url(),\n",
    "            \"authorisation\": Authorisation(user=admin_access,\n",
    "                                           resource=resource).to_data(),\n",
    "            \"public_certificate\": public_cert}"
   ]
  },
  {
   "cell_type": "code",
   "execution_count": null,
   "metadata": {},
   "outputs": [],
   "source": [
    "response = access_service.call_function(\n",
    "                    function=\"admin/trust_accounting_service\", args=args)\n",
    "print(response)"
   ]
  },
  {
   "cell_type": "code",
   "execution_count": null,
   "metadata": {},
   "outputs": [],
   "source": [
    "admin_access.logout()\n",
    "admin_accounting.logout()\n",
    "admin_identity.logout()\n",
    "admin_storage.logout()\n",
    "admin_compute.logout()"
   ]
  },
  {
   "cell_type": "code",
   "execution_count": null,
   "metadata": {},
   "outputs": [],
   "source": []
  }
 ],
 "metadata": {
  "kernelspec": {
   "display_name": "Python 3",
   "language": "python",
   "name": "python3"
  },
  "language_info": {
   "codemirror_mode": {
    "name": "ipython",
    "version": 3
   },
   "file_extension": ".py",
   "mimetype": "text/x-python",
   "name": "python",
   "nbconvert_exporter": "python",
   "pygments_lexer": "ipython3",
   "version": "3.7.2"
  }
 },
 "nbformat": 4,
 "nbformat_minor": 2
}
