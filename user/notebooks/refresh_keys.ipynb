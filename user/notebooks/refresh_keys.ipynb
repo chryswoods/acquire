{
 "cells": [
  {
   "cell_type": "code",
   "execution_count": null,
   "metadata": {},
   "outputs": [],
   "source": [
    "from Acquire.Client import User, Authorisation, create_qrcode\n",
    "import ipywidgets as widgets"
   ]
  },
  {
   "cell_type": "markdown",
   "metadata": {},
   "source": [
    "Set the service type using the dropdown box below..."
   ]
  },
  {
   "cell_type": "code",
   "execution_count": null,
   "metadata": {},
   "outputs": [],
   "source": [
    "service_type = widgets.Dropdown(\n",
    "    options=[\"registry\", \"identity\", \"accounting\", \"access\", \"compute\", \"storage\"])\n",
    "display(service_type)"
   ]
  },
  {
   "cell_type": "markdown",
   "metadata": {},
   "source": [
    "Now provide the full URL to the service, excluding the service type, e.g. for https://fn.acquire-aaai.com/t/registry, provide https://fn.acquire-aaai.com/t"
   ]
  },
  {
   "cell_type": "code",
   "execution_count": null,
   "metadata": {},
   "outputs": [],
   "source": [
    "canonical_url = widgets.Text(value=\"https://fn.acquire-aaai.com/t\")\n",
    "display(canonical_url)"
   ]
  },
  {
   "cell_type": "markdown",
   "metadata": {},
   "source": [
    "By default, the admin account is called `admin-{service_type}`. You can change this if you want..."
   ]
  },
  {
   "cell_type": "code",
   "execution_count": null,
   "metadata": {},
   "outputs": [],
   "source": [
    "canonical_url = \"%s/%s\" % (canonical_url.value, service_type.value)\n",
    "service_type = service_type.value\n",
    "username = \"admin-%s\" % service_type\n",
    "print(\"admin username is %s\" % username)\n",
    "print(\"logging into %s\" % canonical_url)"
   ]
  },
  {
   "cell_type": "markdown",
   "metadata": {},
   "source": [
    "Now let's log into the admin account so that we can authorise a request to refresh keys..."
   ]
  },
  {
   "cell_type": "code",
   "execution_count": null,
   "metadata": {},
   "outputs": [],
   "source": [
    "admin = User(username=username, identity_url=canonical_url)\n",
    "result = admin.request_login()\n",
    "from Acquire.Client import create_qrcode\n",
    "create_qrcode(result[\"login_url\"])"
   ]
  },
  {
   "cell_type": "code",
   "execution_count": null,
   "metadata": {},
   "outputs": [],
   "source": [
    "admin.wait_for_login()\n",
    "assert(admin.is_logged_in())"
   ]
  },
  {
   "cell_type": "markdown",
   "metadata": {},
   "source": [
    "Now get the authorisation to authorise the refresh_keys request"
   ]
  },
  {
   "cell_type": "code",
   "execution_count": null,
   "metadata": {},
   "outputs": [],
   "source": [
    "service = admin.identity_service()\n",
    "auth = Authorisation(user=admin, resource=\"refresh_keys %s\" % service.uid())"
   ]
  },
  {
   "cell_type": "code",
   "execution_count": null,
   "metadata": {},
   "outputs": [],
   "source": [
    "result = service.call_function(function=\"refresh_keys\", \n",
    "                               args={\"authorisation\":auth.to_data()})\n",
    "print(result)"
   ]
  },
  {
   "cell_type": "code",
   "execution_count": null,
   "metadata": {},
   "outputs": [],
   "source": [
    "print(service.last_key_update())"
   ]
  },
  {
   "cell_type": "code",
   "execution_count": null,
   "metadata": {},
   "outputs": [],
   "source": [
    "service.refresh_keys()"
   ]
  },
  {
   "cell_type": "code",
   "execution_count": null,
   "metadata": {},
   "outputs": [],
   "source": [
    "print(service.last_key_update())"
   ]
  },
  {
   "cell_type": "code",
   "execution_count": null,
   "metadata": {},
   "outputs": [],
   "source": [
    "admin.logout()"
   ]
  },
  {
   "cell_type": "code",
   "execution_count": null,
   "metadata": {},
   "outputs": [],
   "source": []
  }
 ],
 "metadata": {
  "kernelspec": {
   "display_name": "Python 3",
   "language": "python",
   "name": "python3"
  },
  "language_info": {
   "codemirror_mode": {
    "name": "ipython",
    "version": 3
   },
   "file_extension": ".py",
   "mimetype": "text/x-python",
   "name": "python",
   "nbconvert_exporter": "python",
   "pygments_lexer": "ipython3",
   "version": "3.7.0"
  }
 },
 "nbformat": 4,
 "nbformat_minor": 2
}
